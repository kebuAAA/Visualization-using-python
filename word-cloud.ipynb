{
 "cells": [
  {
   "cell_type": "markdown",
   "metadata": {},
   "source": [
    "# Import Required Libraries\n",
    "Import the necessary libraries, including docx2txt, wordcloud, and matplotlib."
   ]
  },
  {
   "cell_type": "code",
   "execution_count": null,
   "metadata": {},
   "outputs": [],
   "source": [
    "# Import necessary libraries\n",
    "import docx2txt\n",
    "from wordcloud import WordCloud\n",
    "import matplotlib.pyplot as plt"
   ]
  },
  {
   "cell_type": "markdown",
   "metadata": {},
   "source": [
    "# Load Word File\n",
    "Load the Word file into the notebook."
   ]
  },
  {
   "cell_type": "code",
   "execution_count": null,
   "metadata": {},
   "outputs": [],
   "source": [
    "# Load Word file into the notebook\n",
    "text = docx2txt.process(\"your_doc.docx\") # Replace \"example.docx\" with the name of your Word file\n",
    "print(\"Word file loaded successfully.\") # Optional message to confirm successful loading of file.\n",
    "import jieba\n",
    "ls = jieba.lcut(text) # 生成分词列表\n",
    "text = ' '.join(ls) # 连接成字符串\n",
    "text"
   ]
  },
  {
   "cell_type": "markdown",
   "metadata": {},
   "source": [
    "# mask"
   ]
  },
  {
   "cell_type": "code",
   "execution_count": 29,
   "metadata": {},
   "outputs": [],
   "source": [
    "from PIL import Image\n",
    "import numpy as np\n",
    "# 生成对象\n",
    "# img = Image.open(\"mask.png\") # 打开遮罩图片\n",
    "# img = Image.open(\"tx.png\") # 打开遮罩图片\n",
    "img = Image.open(\"ox.png\") # 打开遮罩图片\n",
    "mask = np.array(img) #将图片转换为数组"
   ]
  },
  {
   "cell_type": "markdown",
   "metadata": {},
   "source": [
    "# Create Word Cloud\n",
    "Use wordcloud to create a word cloud from the extracted text."
   ]
  },
  {
   "cell_type": "code",
   "execution_count": null,
   "metadata": {},
   "outputs": [],
   "source": [
    "s_words = [\"的\",\"是\",\"了\",'而','及'] # 去掉不需要显示的词\n",
    "# text='我是李名'\n",
    "# wc = wordcloud.WordCloud(font_path=\"msyh.ttc\",\n",
    "#                          width = 1000,\n",
    "#                          height = 700,\n",
    "#                          background_color='white',\n",
    "#                          max_words=100,stopwords=s)\n",
    "# Use WordCloud to create a word cloud from the extracted text\n",
    "wordcloud = WordCloud(font_path='font.otf', background_color =None,mode='RGBA',stopwords=s_words,mask=mask).generate(text)\n",
    "rc_dict={\n",
    "    'font.sans-serif':['SimHei']\n",
    "    ,'axes.unicode_minus':False\n",
    "    # ,'axes.prop_cycle':cycler(color=colors)\n",
    "    ,'xaxis.labellocation':'right'\n",
    "    , 'figure.autolayout':True\n",
    "    }\n",
    "plt.rcParams.update(rc_dict)\n",
    "# Display the generated image\n",
    "# plt.figure(figsize = (8, 8), facecolor = None)\n",
    "plt.imshow(wordcloud)\n",
    "plt.axis(\"off\")\n",
    "plt.tight_layout(pad = 0)\n",
    "\n",
    "# Save the generated image to a file\n",
    "wordcloud.to_file(\"wordcloud.png\") # Replace \"wordcloud.png\" with the name you want to give to your image file."
   ]
  },
  {
   "cell_type": "markdown",
   "metadata": {},
   "source": [
    "# Shape Word Cloud Based on Input Picture\n",
    "Use the input picture to shape the word cloud using the mask parameter in wordcloud."
   ]
  },
  {
   "cell_type": "code",
   "execution_count": null,
   "metadata": {},
   "outputs": [],
   "source": [
    "# Import necessary libraries\n",
    "from PIL import Image\n",
    "import numpy as np\n",
    "\n",
    "# Load input picture\n",
    "input_pic = np.array(Image.open(\"input_picture.jpg\")) # Replace \"input_picture.jpg\" with the name of your input picture file\n",
    "\n",
    "# Use WordCloud to create a word cloud from the extracted text and shape it based on the input picture\n",
    "wordcloud = WordCloud(width = 800, height = 800, background_color ='white', min_font_size = 10, mask=input_pic).generate(text)\n",
    "\n",
    "# Display the generated image\n",
    "plt.figure(figsize = (8, 8), facecolor = None)\n",
    "plt.imshow(wordcloud)\n",
    "plt.axis(\"off\")\n",
    "plt.tight_layout(pad = 0)\n",
    "\n",
    "# Save the generated image to a file\n",
    "wordcloud.to_file(\"wordcloud.png\") # Replace \"wordcloud.png\" with the name you want to give to your image file."
   ]
  },
  {
   "cell_type": "markdown",
   "metadata": {},
   "source": [
    "# Visualize the Results\n",
    "Visualize the word cloud using matplotlib or another visualization library."
   ]
  },
  {
   "cell_type": "code",
   "execution_count": null,
   "metadata": {},
   "outputs": [],
   "source": [
    "# Import necessary libraries for visualization\n",
    "import matplotlib.pyplot as plt\n",
    "\n",
    "# Display the generated image using matplotlib\n",
    "plt.figure(figsize = (8, 8), facecolor = None)\n",
    "plt.imshow(wordcloud)\n",
    "plt.axis(\"off\")\n",
    "plt.tight_layout(pad = 0)\n",
    "\n",
    "# Show the plot\n",
    "plt.show()"
   ]
  }
 ],
 "metadata": {
  "kernelspec": {
   "display_name": "Python 3",
   "language": "python",
   "name": "python3"
  },
  "language_info": {
   "codemirror_mode": {
    "name": "ipython",
    "version": 3
   },
   "file_extension": ".py",
   "mimetype": "text/x-python",
   "name": "python",
   "nbconvert_exporter": "python",
   "pygments_lexer": "ipython3",
   "version": "3.9.6"
  },
  "orig_nbformat": 4
 },
 "nbformat": 4,
 "nbformat_minor": 2
}
